{
 "cells": [
  {
   "cell_type": "code",
   "execution_count": 3,
   "id": "ec053fb6",
   "metadata": {},
   "outputs": [],
   "source": [
    "import numpy as np\n",
    "import pandas as pd\n",
    "import seaborn as sns\n",
    "import matplotlib.pyplot as plt\n",
    "from sklearn.model_selection import train_test_split\n",
    "from sklearn.preprocessing import StandardScaler"
   ]
  },
  {
   "cell_type": "code",
   "execution_count": 4,
   "id": "54bf9e5e",
   "metadata": {},
   "outputs": [
    {
     "name": "stdout",
     "output_type": "stream",
     "text": [
      "<bound method NDFrame.head of       Publishing Year                        Book Name  \\\n",
      "0              1975.0                          Beowulf   \n",
      "1              1987.0                 Batman: Year One   \n",
      "2              2015.0                Go Set a Watchman   \n",
      "3              2008.0  When You Are Engulfed in Flames   \n",
      "4              2011.0         Daughter of Smoke & Bone   \n",
      "...               ...                              ...   \n",
      "1065           2014.0                    Gray Mountain   \n",
      "1066           1989.0                 The Power of One   \n",
      "1067           1930.0               The Maltese Falcon   \n",
      "1068           2011.0                       Night Road   \n",
      "1069           1999.0                         Tripwire   \n",
      "\n",
      "                                                 Author language_code  \\\n",
      "0                                Unknown, Seamus Heaney         en-US   \n",
      "1     Frank Miller, David Mazzucchelli, Richmond Lew...           eng   \n",
      "2                                            Harper Lee           eng   \n",
      "3                                         David Sedaris         en-US   \n",
      "4                                          Laini Taylor           eng   \n",
      "...                                                 ...           ...   \n",
      "1065                                       John Grisham           eng   \n",
      "1066                                    Bryce Courtenay           eng   \n",
      "1067                                   Dashiell Hammett           eng   \n",
      "1068                                     Kristin Hannah         en-US   \n",
      "1069                                          Lee Child           eng   \n",
      "\n",
      "     Author_Rating  Book_average_rating  Book_ratings_count          genre  \\\n",
      "0           Novice                 3.42              155903  genre fiction   \n",
      "1     Intermediate                 4.23              145267  genre fiction   \n",
      "2           Novice                 3.31              138669  genre fiction   \n",
      "3     Intermediate                 4.04              150898        fiction   \n",
      "4     Intermediate                 4.04              198283  genre fiction   \n",
      "...            ...                  ...                 ...            ...   \n",
      "1065  Intermediate                 3.52               37379     nonfiction   \n",
      "1066     Excellent                 4.34               57312  genre fiction   \n",
      "1067  Intermediate                 3.92               58742  genre fiction   \n",
      "1068     Excellent                 4.17               58028  genre fiction   \n",
      "1069     Excellent                 4.07               55251  genre fiction   \n",
      "\n",
      "      gross sales  publisher revenue  sale price  sales rank  \\\n",
      "0        34160.00          20496.000        4.88           1   \n",
      "1        12437.50           7462.500        1.99           2   \n",
      "2        47795.00          28677.000        8.69           3   \n",
      "3        41250.00          24750.000        7.50           3   \n",
      "4        37952.50          22771.500        7.99           4   \n",
      "...           ...                ...         ...         ...   \n",
      "1065       104.94             62.964        0.99        1268   \n",
      "1066       846.94            508.164        7.99        1270   \n",
      "1067       846.94            508.164        7.99        1271   \n",
      "1068       104.94             62.964        0.99        1272   \n",
      "1069       316.94              0.000        2.99        1273   \n",
      "\n",
      "                          Publisher   units sold  \n",
      "0           HarperCollins Publishers        7000  \n",
      "1           HarperCollins Publishers        6250  \n",
      "2     Amazon Digital Services,  Inc.        5500  \n",
      "3                Hachette Book Group        5500  \n",
      "4            Penguin Group (USA) LLC        4750  \n",
      "...                              ...         ...  \n",
      "1065  Amazon Digital Services,  Inc.         106  \n",
      "1066                Random House LLC         106  \n",
      "1067             Hachette Book Group         106  \n",
      "1068  Amazon Digital Services,  Inc.         106  \n",
      "1069  Amazon Digital Services,  Inc.         106  \n",
      "\n",
      "[1070 rows x 14 columns]>\n"
     ]
    }
   ],
   "source": [
    "book_data = pd.read_csv(\"~/Desktop/Book Project/Books_Data_Clean.csv\")\n",
    "print(book_data.head)"
   ]
  },
  {
   "cell_type": "code",
   "execution_count": 5,
   "id": "44b36f34",
   "metadata": {},
   "outputs": [
    {
     "name": "stdout",
     "output_type": "stream",
     "text": [
      "                         Book Name  sentiment_score\n",
      "0                          Beowulf              0.0\n",
      "1                 Batman: Year One              0.0\n",
      "2                Go Set a Watchman              0.0\n",
      "3  When You Are Engulfed in Flames              0.0\n",
      "4         Daughter of Smoke & Bone              0.0\n"
     ]
    },
    {
     "name": "stderr",
     "output_type": "stream",
     "text": [
      "[nltk_data] Downloading package vader_lexicon to\n",
      "[nltk_data]     /Users/lincolntrelease/nltk_data...\n",
      "[nltk_data]   Package vader_lexicon is already up-to-date!\n"
     ]
    }
   ],
   "source": [
    "import pandas as pd\n",
    "from nltk.sentiment import SentimentIntensityAnalyzer\n",
    "import nltk\n",
    "import numpy as np\n",
    "\n",
    "# Download necessary NLTK data (only needed once)\n",
    "nltk.download('vader_lexicon')\n",
    "\n",
    "\n",
    "# Initialize the sentiment analyzer\n",
    "sia = SentimentIntensityAnalyzer()\n",
    "\n",
    "# Create a function to get sentiment scores with error handling\n",
    "def get_sentiment(text):\n",
    "    # Check if the value is NaN or not a string\n",
    "    if pd.isna(text) or not isinstance(text, str):\n",
    "        return np.nan  # Return NaN for missing values or non-string values\n",
    "    \n",
    "    try:\n",
    "        sentiment_score = sia.polarity_scores(str(text))\n",
    "        return sentiment_score['compound']  # Returns a value between -1 (negative) and 1 (positive)\n",
    "    except Exception as e:\n",
    "        print(f\"Error processing text: {text}, Error: {e}\")\n",
    "        return np.nan\n",
    "\n",
    "# Apply the function to create a new column with sentiment scores\n",
    "book_data['sentiment_score'] =book_data['Book Name'].apply(get_sentiment)\n",
    "\n",
    "# Drop rows with NaN sentiment scores or handle them as needed\n",
    "# df = df.dropna(subset=['sentiment_score'])  # Uncomment to drop rows with NaN\n",
    "\n",
    "# Display the results\n",
    "print(book_data[['Book Name', 'sentiment_score']].head())\n",
    "\n",
    "# You can also categorize the sentiment for non-NaN values\n",
    "book_data['sentiment_category'] = book_data['sentiment_score'].apply(\n",
    "    lambda score: 'positive' if score > 0.05 else \n",
    "                 ('negative' if score < -0.05 else \n",
    "                 ('neutral' if pd.notna(score) else np.nan))\n",
    ")\n",
    "\n"
   ]
  },
  {
   "cell_type": "code",
   "execution_count": 6,
   "id": "c6b4e092",
   "metadata": {},
   "outputs": [
    {
     "data": {
      "image/png": "[encoded data removed]",
      "text/plain": [
       "<Figure size 640x480 with 1 Axes>"
      ]
     },
     "metadata": {},
     "output_type": "display_data"
    }
   ],
   "source": [
    "plt.hist(book_data['sentiment_score'], bins=30, color='skyblue', edgecolor='black')\n",
    "\n",
    "# Add labels and title\n",
    "plt.xlabel('Value')\n",
    "plt.ylabel('Frequency')\n",
    "plt.title('Histogram of Sentiment score')\n",
    "\n",
    "# Show the plot\n",
    "plt.show()"
   ]
  }
 ],
 "metadata": {
  "kernelspec": {
   "display_name": "base",
   "language": "python",
   "name": "python3"
  },
  "language_info": {
   "codemirror_mode": {
    "name": "ipython",
    "version": 3
   },
   "file_extension": ".py",
   "mimetype": "text/x-python",
   "name": "python",
   "nbconvert_exporter": "python",
   "pygments_lexer": "ipython3",
   "version": "3.11.5"
  }
 },
 "nbformat": 4,
 "nbformat_minor": 5
}
