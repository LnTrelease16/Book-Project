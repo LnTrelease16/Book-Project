{
 "cells": [
  {
   "cell_type": "code",
   "execution_count": null,
   "id": "ec053fb6",
   "metadata": {},
   "outputs": [],
   "source": [
    "import pandas as pd\n",
    "import numpy as np\n",
    "from scipy.stats import spearmanr\n",
    "import seaborn as sns\n",
    "import matplotlib.pyplot as plt\n",
    "from sklearn.model_selection import train_test_split\n",
    "from sklearn.preprocessing import StandardScaler"
   ]
  },
  {
   "cell_type": "code",
   "execution_count": 2,
   "id": "54bf9e5e",
   "metadata": {},
   "outputs": [
    {
     "name": "stdout",
     "output_type": "stream",
     "text": [
      "<bound method NDFrame.head of       Publishing Year                        Book Name  \\\n",
      "0              1975.0                          Beowulf   \n",
      "1              1987.0                 Batman: Year One   \n",
      "2              2015.0                Go Set a Watchman   \n",
      "3              2008.0  When You Are Engulfed in Flames   \n",
      "4              2011.0         Daughter of Smoke & Bone   \n",
      "...               ...                              ...   \n",
      "1065           2014.0                    Gray Mountain   \n",
      "1066           1989.0                 The Power of One   \n",
      "1067           1930.0               The Maltese Falcon   \n",
      "1068           2011.0                       Night Road   \n",
      "1069           1999.0                         Tripwire   \n",
      "\n",
      "                                                 Author language_code  \\\n",
      "0                                Unknown, Seamus Heaney         en-US   \n",
      "1     Frank Miller, David Mazzucchelli, Richmond Lew...           eng   \n",
      "2                                            Harper Lee           eng   \n",
      "3                                         David Sedaris         en-US   \n",
      "4                                          Laini Taylor           eng   \n",
      "...                                                 ...           ...   \n",
      "1065                                       John Grisham           eng   \n",
      "1066                                    Bryce Courtenay           eng   \n",
      "1067                                   Dashiell Hammett           eng   \n",
      "1068                                     Kristin Hannah         en-US   \n",
      "1069                                          Lee Child           eng   \n",
      "\n",
      "     Author_Rating  Book_average_rating  Book_ratings_count          genre  \\\n",
      "0           Novice                 3.42              155903  genre fiction   \n",
      "1     Intermediate                 4.23              145267  genre fiction   \n",
      "2           Novice                 3.31              138669  genre fiction   \n",
      "3     Intermediate                 4.04              150898        fiction   \n",
      "4     Intermediate                 4.04              198283  genre fiction   \n",
      "...            ...                  ...                 ...            ...   \n",
      "1065  Intermediate                 3.52               37379     nonfiction   \n",
      "1066     Excellent                 4.34               57312  genre fiction   \n",
      "1067  Intermediate                 3.92               58742  genre fiction   \n",
      "1068     Excellent                 4.17               58028  genre fiction   \n",
      "1069     Excellent                 4.07               55251  genre fiction   \n",
      "\n",
      "      gross sales  publisher revenue  sale price  sales rank  \\\n",
      "0        34160.00          20496.000        4.88           1   \n",
      "1        12437.50           7462.500        1.99           2   \n",
      "2        47795.00          28677.000        8.69           3   \n",
      "3        41250.00          24750.000        7.50           3   \n",
      "4        37952.50          22771.500        7.99           4   \n",
      "...           ...                ...         ...         ...   \n",
      "1065       104.94             62.964        0.99        1268   \n",
      "1066       846.94            508.164        7.99        1270   \n",
      "1067       846.94            508.164        7.99        1271   \n",
      "1068       104.94             62.964        0.99        1272   \n",
      "1069       316.94              0.000        2.99        1273   \n",
      "\n",
      "                          Publisher   units sold  \n",
      "0           HarperCollins Publishers        7000  \n",
      "1           HarperCollins Publishers        6250  \n",
      "2     Amazon Digital Services,  Inc.        5500  \n",
      "3                Hachette Book Group        5500  \n",
      "4            Penguin Group (USA) LLC        4750  \n",
      "...                              ...         ...  \n",
      "1065  Amazon Digital Services,  Inc.         106  \n",
      "1066                Random House LLC         106  \n",
      "1067             Hachette Book Group         106  \n",
      "1068  Amazon Digital Services,  Inc.         106  \n",
      "1069  Amazon Digital Services,  Inc.         106  \n",
      "\n",
      "[1070 rows x 14 columns]>\n"
     ]
    }
   ],
   "source": [
    "book_data = pd.read_csv(\"~/Desktop/Book Project/Books_Data_Clean.csv\")\n",
    "print(book_data.head)"
   ]
  },
  {
   "cell_type": "code",
   "execution_count": null,
   "id": "04150513",
   "metadata": {},
   "outputs": [],
   "source": []
  }
 ],
 "metadata": {
  "kernelspec": {
   "display_name": "base",
   "language": "python",
   "name": "python3"
  },
  "language_info": {
   "codemirror_mode": {
    "name": "ipython",
    "version": 3
   },
   "file_extension": ".py",
   "mimetype": "text/x-python",
   "name": "python",
   "nbconvert_exporter": "python",
   "pygments_lexer": "ipython3",
   "version": "3.11.5"
  }
 },
 "nbformat": 4,
 "nbformat_minor": 5
}
